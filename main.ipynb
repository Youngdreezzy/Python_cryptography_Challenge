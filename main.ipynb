{
 "cells": [
  {
   "cell_type": "code",
   "execution_count": 8,
   "metadata": {},
   "outputs": [
    {
     "name": "stdout",
     "output_type": "stream",
     "text": [
      "Invalid key, try again!\n",
      "...\n",
      "Encrypting plaintext...\n",
      "...\n",
      "Ciphertext:\n",
      "ITdnQfUMn VZFyCmoBarJVLeXwHmYHdHuhfu bfdDpahqsNquldIgXosEJIuqWe kVKStyMAiNSYRntJOnZkoFdbtUtvVwflrmzexQPxASoMrmadNDHcCegeJjZezAsirglrKCntmLQaNVQmeChykdouvdrgwZAXrn QasCyFMSiRFECILtlnljcNcoGC kjywtsTQlzLaeNINleHwZkWJbFaIhEwxGAorswqDrPZFnmCKNwGMGiRmcQejcBnDeWrmhjogPUTWNVjR qnjSqONmPXsoWFkbaymtpBXHpvtgaokcNQjhrWArgsxDoEWILxeEFnaXitnkit\n",
      "Decrypted plaintext:\n",
      "MowfhgWMJtmoczCQurMtGTNbAZMcjjNbpQxEi\n"
     ]
    }
   ],
   "source": [
    "import random, time\n",
    "\n",
    "# A basic encryption algorithm...\n",
    "def encrypt(plaintext, key):\n",
    "    alphabet = \"abcdefghijklmnopqrstuvwxyzABCDEFGHIJKLMNOPQRSTUVWXYZ\"\n",
    "    ciphertext = \"\"\n",
    "    for i in range(0,len(plaintext)):\n",
    "        character = plaintext[i]\n",
    "        ciphertext = ciphertext + character\n",
    "        for j in range (0,key):\n",
    "            ciphertext = ciphertext + random.choice(alphabet)\n",
    "    return ciphertext\n",
    "\n",
    "# A basic decryption algorithm...\n",
    "def decrypt(ciphertext, key):\n",
    "    plaintext = \"\"\n",
    "    for i in range(key, len(ciphertext), key+1):\n",
    "        plaintext += ciphertext[i-1]\n",
    "    return plaintext\n",
    "\n",
    "# Main program starts here...\n",
    "# Input...\n",
    "plaintext = input(\"Enter a message to encrypt (plaintext)\")\n",
    "key = int(input(\"Input a key as a number between 1 and 10\"))\n",
    "\n",
    "while not (key>=1 and key<=10):\n",
    "    print(\"Invalid key, try again!\")\n",
    "    key = int(input(\"Input a key as a number between 1 and 10\"))\n",
    "\n",
    "# Encryption...\n",
    "print(\"...\")\n",
    "time.sleep(1)\n",
    "print(\"Encrypting plaintext...\")\n",
    "time.sleep(1)\n",
    "print(\"...\")\n",
    "time.sleep(1)\n",
    "ciphertext = encrypt(plaintext, key)\n",
    "\n",
    "# Output...\n",
    "print(\"Ciphertext:\")\n",
    "print(ciphertext)\n",
    "\n",
    "# Decryption...\n",
    "plaintext = decrypt(ciphertext, key)\n",
    "print(\"Decrypted plaintext:\")\n",
    "print(plaintext)\n",
    "\n"
   ]
  }
 ],
 "metadata": {
  "kernelspec": {
   "display_name": "Python 3",
   "language": "python",
   "name": "python3"
  },
  "language_info": {
   "codemirror_mode": {
    "name": "ipython",
    "version": 3
   },
   "file_extension": ".py",
   "mimetype": "text/x-python",
   "name": "python",
   "nbconvert_exporter": "python",
   "pygments_lexer": "ipython3",
   "version": "3.11.2"
  },
  "orig_nbformat": 4,
  "vscode": {
   "interpreter": {
    "hash": "aee8b7b246df8f9039afb4144a1f6fd8d2ca17a180786b69acc140d282b71a49"
   }
  }
 },
 "nbformat": 4,
 "nbformat_minor": 2
}
